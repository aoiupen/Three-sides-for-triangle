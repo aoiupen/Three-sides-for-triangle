{
  "nbformat": 4,
  "nbformat_minor": 0,
  "metadata": {
    "colab": {
      "provenance": [],
      "gpuType": "T4"
    },
    "kernelspec": {
      "name": "python3",
      "display_name": "Python 3"
    },
    "language_info": {
      "name": "python"
    },
    "accelerator": "GPU"
  },
  "cells": [
    {
      "cell_type": "code",
      "source": [
        "import sys\n",
        "import numpy as np\n",
        "import tensorflow as tf\n",
        "from tensorflow.keras import layers, models"
      ],
      "metadata": {
        "id": "fsYmaPJ2z8z2"
      },
      "execution_count": null,
      "outputs": []
    },
    {
      "cell_type": "code",
      "execution_count": null,
      "metadata": {
        "id": "0mnXIGRGzwsB"
      },
      "outputs": [],
      "source": [
        "# Generate_three_sides_for_triangle\n",
        "def generate_three_sides_for_triangle(num_data):\n",
        "    ok_three_sides = []\n",
        "    ng_three_sides = []\n",
        "    ok_cnt = 0\n",
        "    ng_cnt = 0\n",
        "    min_segment_len = 1\n",
        "    max_segment_len = 1000\n",
        "    input_shape = (3,1)\n",
        "\n",
        "    while True:\n",
        "        # Get three sides by random\n",
        "        three_sides_len = np.random.randint(min_segment_len, max_segment_len,input_shape)\n",
        "\n",
        "        # If the length of the longest side is less than the sum of the other two sides,\n",
        "        # a triangle can be formed with the three sides.\n",
        "        if is_triangle(three_sides_len):\n",
        "            if ok_cnt < num_data:\n",
        "                ok_three_sides.append(three_sides_len)\n",
        "                ok_cnt += 1\n",
        "        else:\n",
        "            if ng_cnt < num_data:\n",
        "                ng_three_sides.append(three_sides_len)\n",
        "                ng_cnt += 1\n",
        "\n",
        "        # If the data for the entire sample size has been obtained, escape loop\n",
        "        if ok_cnt == num_data and ng_cnt == num_data:\n",
        "            break\n",
        "\n",
        "    return np.array(ok_three_sides), np.array(ng_three_sides)\n",
        "\n",
        "# Check whether it is possible to form a triangle with three sides\n",
        "def is_triangle(three_sides_len):\n",
        "    # Calculate each length of three sides\n",
        "    max_segment_len = max(three_sides_len)\n",
        "\n",
        "    if (max_segment_len <= sum(three_sides_len) - max_segment_len):\n",
        "        return True\n",
        "    else:\n",
        "        return False"
      ]
    },
    {
      "cell_type": "code",
      "source": [
        "# Generate data for train\n",
        "num_data = 100000\n",
        "ok_three_sides, ng_three_sides = generate_three_sides_for_triangle(num_data)"
      ],
      "metadata": {
        "id": "kyg6FEwazylt"
      },
      "execution_count": null,
      "outputs": []
    },
    {
      "cell_type": "code",
      "source": [
        "# ok_three_sides = 1, ng_three_sides = 0\n",
        "labels = np.concatenate([np.ones(len(ok_three_sides)), np.zeros(len(ng_three_sides))])"
      ],
      "metadata": {
        "id": "eyEjNqmnXtA3"
      },
      "execution_count": null,
      "outputs": []
    },
    {
      "cell_type": "code",
      "source": [
        "# Shuffle data\n",
        "ok_indices = np.arange(len(ok_three_sides))\n",
        "ng_indices = np.arange(len(ng_three_sides))\n",
        "\n",
        "np.random.shuffle(ok_indices)\n",
        "np.random.shuffle(ng_indices)\n",
        "\n",
        "ok_three_sides = ok_three_sides[ok_indices]\n",
        "ng_three_sides = ng_three_sides[ng_indices]\n",
        "\n",
        "# Data normalization\n",
        "ok_three_sides = ok_three_sides / 255.0\n",
        "ng_three_sides = ng_three_sides / 255.0"
      ],
      "metadata": {
        "id": "wlZdRPPsu4ra"
      },
      "execution_count": null,
      "outputs": []
    },
    {
      "cell_type": "code",
      "source": [],
      "metadata": {
        "id": "kD19BVMauysv"
      },
      "execution_count": null,
      "outputs": []
    },
    {
      "cell_type": "code",
      "source": [
        "triangles = np.concatenate([ok_three_sides, ng_three_sides])\n",
        "\n",
        "# Create model\n",
        "model = models.Sequential([\n",
        "    layers.Flatten(input_shape=(3, 1)),\n",
        "    layers.Dense(64, activation='relu'),\n",
        "    layers.Dense(1, activation='sigmoid')\n",
        "])\n",
        "\n",
        "# Compile model\n",
        "model.compile(optimizer='adam', loss='binary_crossentropy', metrics=['accuracy'])\n",
        "\n",
        "# Train Model\n",
        "model.fit(triangles, labels, epochs=8)\n",
        "\n",
        "# Evalidate Model\n",
        "loss, accuracy = model.evaluate(triangles, labels)\n",
        "print(f'Test Accuracy: {accuracy}')"
      ],
      "metadata": {
        "id": "uUuvKlWz2Ptc",
        "colab": {
          "base_uri": "https://localhost:8080/"
        },
        "outputId": "c7e716fe-b09b-44b7-b9c4-931a41cc9f2e"
      },
      "execution_count": null,
      "outputs": [
        {
          "output_type": "stream",
          "name": "stdout",
          "text": [
            "Epoch 1/8\n",
            "6250/6250 [==============================] - 21s 3ms/step - loss: 0.1635 - accuracy: 0.9503\n",
            "Epoch 2/8\n",
            "6250/6250 [==============================] - 17s 3ms/step - loss: 0.0541 - accuracy: 0.9879\n",
            "Epoch 3/8\n",
            "6250/6250 [==============================] - 17s 3ms/step - loss: 0.0360 - accuracy: 0.9914\n",
            "Epoch 4/8\n",
            "6250/6250 [==============================] - 18s 3ms/step - loss: 0.0285 - accuracy: 0.9927\n",
            "Epoch 5/8\n",
            "6250/6250 [==============================] - 18s 3ms/step - loss: 0.0238 - accuracy: 0.9937\n",
            "Epoch 6/8\n",
            "6250/6250 [==============================] - 17s 3ms/step - loss: 0.0210 - accuracy: 0.9942\n",
            "Epoch 7/8\n",
            "6250/6250 [==============================] - 18s 3ms/step - loss: 0.0192 - accuracy: 0.9946\n",
            "Epoch 8/8\n",
            "6250/6250 [==============================] - 17s 3ms/step - loss: 0.0175 - accuracy: 0.9948\n",
            "6250/6250 [==============================] - 14s 2ms/step - loss: 0.0163 - accuracy: 0.9957\n",
            "Test Accuracy: 0.9957399964332581\n"
          ]
        }
      ]
    },
    {
      "cell_type": "code",
      "source": [
        "# Example\n",
        "ex_triangle = np.array([1,2.1,1])\n",
        "single_triangle_coordinates = np.array([ex_triangle])\n",
        "predictions = model.predict(single_triangle_coordinates)\n",
        "predictions"
      ],
      "metadata": {
        "colab": {
          "base_uri": "https://localhost:8080/"
        },
        "id": "gukOmbUywLvb",
        "outputId": "4682bf8c-b398-4bb4-c09a-16765ef08fb8"
      },
      "execution_count": null,
      "outputs": [
        {
          "output_type": "stream",
          "name": "stdout",
          "text": [
            "1/1 [==============================] - 0s 67ms/step\n"
          ]
        },
        {
          "output_type": "execute_result",
          "data": {
            "text/plain": [
              "array([[0.00604001]], dtype=float32)"
            ]
          },
          "metadata": {},
          "execution_count": 26
        }
      ]
    },
    {
      "cell_type": "code",
      "source": [],
      "metadata": {
        "id": "3kXie43G7m_E"
      },
      "execution_count": null,
      "outputs": []
    }
  ]
}